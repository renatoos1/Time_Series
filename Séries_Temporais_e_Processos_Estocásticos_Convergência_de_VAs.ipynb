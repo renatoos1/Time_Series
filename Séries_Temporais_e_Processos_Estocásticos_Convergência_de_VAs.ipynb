{
  "nbformat": 4,
  "nbformat_minor": 0,
  "metadata": {
    "colab": {
      "name": "Séries Temporais e Processos Estocásticos - Convergência de VAs",
      "provenance": []
    },
    "kernelspec": {
      "name": "python3",
      "display_name": "Python 3"
    },
    "language_info": {
      "name": "python"
    }
  },
  "cells": [
    {
      "cell_type": "markdown",
      "metadata": {
        "id": "d56CdC4BgtY6"
      },
      "source": [
        "# Convergência de Variáveis Aleatórias\n",
        "**Disciplina:** Tópicos Especiais - Séries Temporais e Processos Estocásticos\n",
        "\n",
        "**Professor:** <a href=\"http://petroniocandido.github.io\"> Petrônio Cândido de Lima e Silva</a> <span itemscope itemtype=\"https://schema.org/Person\"><a itemprop=\"sameAs\" content=\"https://orcid.org/0000-0002-1202-2552\" href=\"https://orcid.org/0000-0002-1202-2552\" target=\"orcid.widget\" rel=\"noopener noreferrer\" style=\"vertical-align:top;\"><img src=\"https://orcid.org/sites/default/files/images/orcid_16x16.png\" style=\"width:1em;margin-right:.5em;\" alt=\"ORCID iD icon\"></a></span> (petronio.candido@ifnmg.edu.br)\n",
        "\n",
        "[![made-with-python](https://img.shields.io/badge/Made%20with-Python-1f425f.svg)](https://www.python.org/)  [![made-with-latex](https://img.shields.io/badge/Made%20with-LaTeX-1f425f.svg)](https://www.latex-project.org/) [![ForTheBadge built-with-love](http://ForTheBadge.com/images/badges/built-with-love.svg)](https://GitHub.com/Naereen/) [![ForTheBadge built-with-science](http://ForTheBadge.com/images/badges/built-with-science.svg)](https://GitHub.com/Naereen/)\n",
        "\n",
        "\n",
        "\n",
        "\n",
        "<center>\n",
        "  <table><tr>\n",
        "<td><a href=\"https://ppgmcs.com.br/\"><img src=\"https://ppgmcs.com.br/wp-content/uploads/ppgmcs.png\" alt=\"Programa de Pós-Graduação em Modelagem Computacional e Sistemas - PPGMCS/Unimontes\" height=\"60\" width=\"150\"/></a></td> \n",
        "\n",
        " <td>&nbsp;&nbsp;&nbsp;&nbsp;&nbsp;&nbsp;&nbsp;&nbsp;&nbsp;</td>\n",
        "\n",
        "<td><a href=\"#\"><img src=\"https://avatars1.githubusercontent.com/u/54992196?s=400&u=4c96d4fc0560b6957233f1dd91a9560de4a054b2&v=4\" alt=\"{cidic} - Grupo de Pesquisa em Ciência de Dados e Inteligência Computacional\" width=\"100\"/></a></td> \n",
        "\n",
        " <td>&nbsp;&nbsp;&nbsp;&nbsp;&nbsp;&nbsp;&nbsp;&nbsp;&nbsp;</td>\n",
        "  \n",
        "<td>\n",
        "   <a href=\"http://www.ifnmg.edu.br/\"><img src=\"https://github.com/petroniocandido/PhdThesis/raw/master/figures/ifnmg.jpg\" alt=\"IFNMG - Instituto Federal do Norte de Minas Gerais\" width=\"100\"/></a></td>\n",
        "</tr>\n",
        "</table>\n",
        "</center>\n",
        "\n",
        "[![licensebuttons by-nc-sa](https://licensebuttons.net/l/by-nc-sa/3.0/88x31.png)](https://creativecommons.org/licenses/by-nc-sa/4.0) "
      ]
    },
    {
      "cell_type": "code",
      "metadata": {
        "id": "K77q3hBHgn9k"
      },
      "source": [
        "import numpy as np    \n",
        "from scipy import stats\n",
        "import matplotlib.pyplot as plt"
      ],
      "execution_count": null,
      "outputs": []
    },
    {
      "cell_type": "markdown",
      "metadata": {
        "id": "V_wBM8tPlnuB"
      },
      "source": [
        "## Teorema do Limite Central (CLT)\n",
        "\n",
        "Dado um conjunto de variáveis aleatórias iid $X_i = \\{X_1, \\ldots, X_n\\}$:\n",
        "$$X_i \\sim \\mathcal{U}(-a, a)$$\n",
        "\n",
        "Definimos a  variável aleatória $S_n$ como a média amostral de $X_i$, tal que:\n",
        "$$S_n = \\frac{\\sum_{i=1}^n X_i}{n}$$\n",
        "\n",
        "E definidos o 1º e 2º momentos:\n",
        "\n",
        "$$\\mu = \\mathbb{E}[S_n]\\;\\;\\;\\sigma  = \\mathbb{Var}[S_n]$$\n",
        "\n",
        "Observa-se que:\n",
        "\n",
        "$$\\lim_{n\\rightarrow \\infty}\\frac{S_n - \\mu}{\\sqrt{\\sigma}} = \\mathcal{N}(0,1)$$\n",
        "\n",
        "Assim dizemos que $S_n$ converge em distribuição ($X_n \\xrightarrow{D} X$) para $\\mathcal{N}(0,1)$:\n",
        "\n",
        "$$\\frac{S_n - \\mu}{\\sqrt{\\sigma}} \\xrightarrow{D} \\mathcal{N}(0,1)$$"
      ]
    },
    {
      "cell_type": "code",
      "metadata": {
        "id": "U8yNB31LZ_78"
      },
      "source": [
        "def clt(n, m):\n",
        "  #n -> A quantidade de amostras de Xi\n",
        "  #m -> A quantidade de amostras de Sn\n",
        "\n",
        "  Xn = np.zeros(m)\n",
        "\n",
        "  for j in range(n):\n",
        "    Xn += np.random.uniform(0, 10, m)\n",
        "  \n",
        "  Sn = Xn/n\n",
        "\n",
        "  mu = Sn.mean()\n",
        "  sigma = Sn.std()\n",
        "\n",
        "  Sn = (Sn - mu)/np.sqrt(sigma)\n",
        "\n",
        "  return Sn"
      ],
      "execution_count": null,
      "outputs": []
    },
    {
      "cell_type": "code",
      "metadata": {
        "colab": {
          "base_uri": "https://localhost:8080/",
          "height": 282
        },
        "id": "LKdwNlFAQUbs",
        "outputId": "5b337434-cd7f-4d81-d8ff-80a533902407"
      },
      "source": [
        "n = 12\n",
        "m = 1000\n",
        "dados = clt(n, m)\n",
        "\n",
        "it = np.linspace(min(dados), max(dados), 100)\n",
        "plt.hist(dados, bins=it, density=True, label='$S_n$')\n",
        "plt.plot(it, stats.norm.pdf(it, 0, 1), c=\"black\", label=\"$\\mathcal{N}(0,1)$\")\n",
        "plt.legend()"
      ],
      "execution_count": null,
      "outputs": [
        {
          "output_type": "execute_result",
          "data": {
            "text/plain": [
              "<matplotlib.legend.Legend at 0x7fdf8490a3d0>"
            ]
          },
          "metadata": {},
          "execution_count": 31
        },
        {
          "output_type": "display_data",
          "data": {
            "image/png": "[encoded data removed]",
            "text/plain": [
              "<Figure size 432x288 with 1 Axes>"
            ]
          },
          "metadata": {
            "needs_background": "light"
          }
        }
      ]
    },
    {
      "cell_type": "code",
      "metadata": {
        "colab": {
          "base_uri": "https://localhost:8080/"
        },
        "id": "UBbriop-I4yi",
        "outputId": "1aa46cbb-68db-42a2-a694-6c440af9e5c8"
      },
      "source": [
        "pesos"
      ],
      "execution_count": null,
      "outputs": [
        {
          "output_type": "execute_result",
          "data": {
            "text/plain": [
              "array([0.0001, 0.0001, 0.0001, ..., 0.0001, 0.0001, 0.0001])"
            ]
          },
          "metadata": {
            "tags": []
          },
          "execution_count": 58
        }
      ]
    },
    {
      "cell_type": "markdown",
      "metadata": {
        "id": "sT1pEBVtK1wj"
      },
      "source": [
        "## Lei Fraca dos Grandes Números"
      ]
    },
    {
      "cell_type": "code",
      "metadata": {
        "id": "MQUW5E1dR77H"
      },
      "source": [
        "def lgn(e, n, plot=True):\n",
        "\n",
        "  #e -> epsilon / o intervalo de confiança\n",
        "  #n -> Tamanho da amostra Xn\n",
        "\n",
        "  x = np.random.normal(10, 2, n)\n",
        "  mu_real = 10.0\n",
        "  mu_amostral = x.mean()\n",
        "  if(plot):\n",
        "    fig, ax = plt.subplots(nrows=1, ncols=2, figsize=[10,3])\n",
        "    ax[0].plot(x, zorder=1)\n",
        "    ax[0].hlines([mu_real],0,n-1, colors=['black'], zorder=2)\n",
        "    ax[0].hlines([mu_real-e, mu_real+e],0,n-1, colors=['red'], zorder=2)\n",
        "    ax[0].hlines([mu_amostral],0,n-1,colors=['purple'], zorder=2)\n",
        "    ax[1].vlines([mu_real],0,n, colors=['black'], label=\"$S_n$\")\n",
        "    ax[1].vlines([mu_real-e, mu_real+e],0,n, colors=['red'], label=\"$\\epsilon$\")\n",
        "    ax[1].vlines([mu_amostral],0,n,colors=['purple'], label=\"$X_n$\")\n",
        "    \n",
        "    plt.legend(bbox_to_anchor=(1, 0., 0.2, 1))\n",
        "\n",
        "  return np.abs(mu_real - mu_amostral)\n",
        "\n"
      ],
      "execution_count": null,
      "outputs": []
    },
    {
      "cell_type": "code",
      "metadata": {
        "colab": {
          "base_uri": "https://localhost:8080/",
          "height": 265
        },
        "id": "K9rVuJWjNd0p",
        "outputId": "6d1c2b39-399d-4294-9c21-948684c00e85"
      },
      "source": [
        "diferencas = [ lgn(0.1, 500, False) for i in range(50)]\n",
        "\n",
        "_ = plt.hist(diferencas)\n",
        "  "
      ],
      "execution_count": null,
      "outputs": [
        {
          "output_type": "display_data",
          "data": {
            "image/png": "[encoded data removed]",
            "text/plain": [
              "<Figure size 432x288 with 1 Axes>"
            ]
          },
          "metadata": {
            "needs_background": "light"
          }
        }
      ]
    },
    {
      "cell_type": "markdown",
      "metadata": {
        "id": "-54oTE1EQT2m"
      },
      "source": [
        "## Desigualdade de Markov\n",
        "\n",
        "$$ P(X \\geq c) \\leq \\frac{\\mathbb{E}[X]}{c}$$"
      ]
    },
    {
      "cell_type": "code",
      "metadata": {
        "colab": {
          "base_uri": "https://localhost:8080/"
        },
        "id": "MlhfHDgENijA",
        "outputId": "8bcc321a-8bd5-41a7-d6a5-8fd72193bf91"
      },
      "source": [
        "c = 3.6\n",
        "mu = 1\n",
        "sigma = 1\n",
        "pxc = 1 - stats.norm.cdf(c, loc=mu, scale=sigma)\n",
        "exc = mu/c\n",
        "print(\"P(X >= c) = {}\".format(pxc))\n",
        "print(\"E[X] / c = {}\".format(exc)) "
      ],
      "execution_count": null,
      "outputs": [
        {
          "output_type": "stream",
          "text": [
            "P(X >= c) = 0.004661188023718732\n",
            "E[X] / c = 0.2777777777777778\n"
          ],
          "name": "stdout"
        }
      ]
    },
    {
      "cell_type": "code",
      "metadata": {
        "colab": {
          "base_uri": "https://localhost:8080/",
          "height": 282
        },
        "id": "lZLtgU47RmR3",
        "outputId": "41e6cf0a-995f-4caa-f11d-f94dafc59375"
      },
      "source": [
        "it = np.linspace(-5, 5, 30)\n",
        "plt.plot(it, stats.norm.pdf(it, mu, sigma), c=\"black\")\n",
        "plt.vlines([mu],0,.5, colors=['blue'], label=\"$\\mathbb{E}[X]$\")\n",
        "plt.vlines([c],0,.5, colors=['red'], label=\"$c$\")\n",
        "plt.hlines([pxc],-5,5, colors=['purple'], label=\"$P(X \\geq c)$\")\n",
        "plt.hlines([exc],-5,5, colors=['darkgreen'], label=\"$\\mathbb{E}[X]/c$\")\n",
        "plt.legend(bbox_to_anchor=(1, 0., 0.2, 1))"
      ],
      "execution_count": null,
      "outputs": [
        {
          "output_type": "execute_result",
          "data": {
            "text/plain": [
              "<matplotlib.legend.Legend at 0x7fdf84626990>"
            ]
          },
          "metadata": {},
          "execution_count": 68
        },
        {
          "output_type": "display_data",
          "data": {
            "image/png": "[encoded data removed]",
            "text/plain": [
              "<Figure size 432x288 with 1 Axes>"
            ]
          },
          "metadata": {
            "needs_background": "light"
          }
        }
      ]
    },
    {
      "cell_type": "markdown",
      "metadata": {
        "id": "iq7fqN2pUdVW"
      },
      "source": [
        "## Desigualdade de Chebyshev\n",
        "\n",
        "$$P(|X - \\mu| \\geq k\\sigma) \\leq \\frac{1}{k^2}$$"
      ]
    },
    {
      "cell_type": "code",
      "metadata": {
        "colab": {
          "base_uri": "https://localhost:8080/"
        },
        "id": "Q5DHOq3LSig2",
        "outputId": "b628f92c-ff33-4815-cf20-baa20cec3efc"
      },
      "source": [
        "k = 2\n",
        "mu = 1\n",
        "sigma = 1\n",
        "pxm = stats.norm.cdf(mu - k*sigma, loc=mu, scale=sigma) + \\\n",
        "    (1 - stats.norm.cdf(mu + k*sigma, loc=mu, scale=sigma))\n",
        "k2 = 1/(k**2)\n",
        "print(\"P(|X - mu| >= k*sigma) = {}\".format(pxm))\n",
        "print(\"1/k² = {}\".format(k2)) "
      ],
      "execution_count": null,
      "outputs": [
        {
          "output_type": "stream",
          "text": [
            "P(|X - mu| >= k*sigma) = 0.0455002638963584\n",
            "1/k² = 0.25\n"
          ],
          "name": "stdout"
        }
      ]
    },
    {
      "cell_type": "code",
      "metadata": {
        "colab": {
          "base_uri": "https://localhost:8080/",
          "height": 282
        },
        "id": "hFiNHxjvWUyu",
        "outputId": "fff34f14-4f09-4d5c-b943-9fc1b07d725e"
      },
      "source": [
        "it = np.linspace(-5, 5, 30)\n",
        "plt.plot(it, stats.norm.pdf(it, mu, sigma), c=\"black\")\n",
        "plt.vlines([mu],0,.5, colors=['blue'], label=\"$\\mu$\")\n",
        "plt.vlines([mu - k*sigma, mu + k*sigma],0,.5, colors=['red'], label=\"$\\mu \\pm k\\sigma$\")\n",
        "plt.hlines([pxm],-5,5, colors=['purple'], label=\"$P(|X \\mu| \\geq k\\sigma)$\")\n",
        "plt.hlines([k2],-5,5, colors=['darkgreen'], label=\"$1/k^2$\")\n",
        "plt.legend(bbox_to_anchor=(1, 0., 0.2, 1))"
      ],
      "execution_count": null,
      "outputs": [
        {
          "output_type": "execute_result",
          "data": {
            "text/plain": [
              "<matplotlib.legend.Legend at 0x7fdf7fc06450>"
            ]
          },
          "metadata": {},
          "execution_count": 71
        },
        {
          "output_type": "display_data",
          "data": {
            "image/png": "[encoded data removed]",
            "text/plain": [
              "<Figure size 432x288 with 1 Axes>"
            ]
          },
          "metadata": {
            "needs_background": "light"
          }
        }
      ]
    },
    {
      "cell_type": "code",
      "metadata": {
        "id": "p5I297gDXauA"
      },
      "source": [
        ""
      ],
      "execution_count": null,
      "outputs": []
    }
  ]
}